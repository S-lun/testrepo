{
 "cells": [
  {
   "cell_type": "markdown",
   "id": "4faafb96-22b1-4b1d-b74f-064ce7f31e2b",
   "metadata": {},
   "source": [
    "# Data Science Tools and Ecosystem"
   ]
  },
  {
   "cell_type": "markdown",
   "id": "5c291663-7314-458b-8c38-29e078d6a185",
   "metadata": {},
   "source": [
    "In this notebook, Data Science Tools and Ecosystem are summarized."
   ]
  },
  {
   "cell_type": "markdown",
   "id": "c8698ff3-ba79-4708-b602-cac8bd631c3b",
   "metadata": {},
   "source": [
    "Some of the popular languages that Data Scientists use are:\n",
    "1. Python\n",
    "2. R\n",
    "3. SQL"
   ]
  },
  {
   "cell_type": "markdown",
   "id": "fa3815bf-7392-41e7-88ec-89110ce90ea5",
   "metadata": {},
   "source": [
    "Some of the commonly used libraries used by Data Scientists include:\n",
    "1. Pandas\n",
    "2. Numpy\n",
    "3. Keras"
   ]
  },
  {
   "cell_type": "markdown",
   "id": "9e0a0cab-d013-4a1d-ae25-ef575ee0b92b",
   "metadata": {},
   "source": [
    "\n",
    "Data Science Tools |\n",
    "------------------|\n",
    "Jupyter Notebook|\n",
    "RStudio|\n",
    "Spyder"
   ]
  },
  {
   "cell_type": "markdown",
   "id": "b4c4f1da-89c9-4ffc-82b1-14eda2885ad6",
   "metadata": {},
   "source": [
    "### Below are a few examples of evaluating arithmetic expressions in Python"
   ]
  },
  {
   "cell_type": "code",
   "execution_count": 5,
   "id": "e6d22474-39a2-4dde-b208-892745613613",
   "metadata": {},
   "outputs": [
    {
     "data": {
      "text/plain": [
       "17"
      ]
     },
     "execution_count": 5,
     "metadata": {},
     "output_type": "execute_result"
    }
   ],
   "source": [
    "# This is a simple arithmetic expression to multiply then add integers\n",
    "(3*4)+5"
   ]
  },
  {
   "cell_type": "code",
   "execution_count": 6,
   "id": "758965c0-cbe3-47fc-88b1-297888875f07",
   "metadata": {},
   "outputs": [
    {
     "data": {
      "text/plain": [
       "3.3333333333333335"
      ]
     },
     "execution_count": 6,
     "metadata": {},
     "output_type": "execute_result"
    }
   ],
   "source": [
    "# This will convert 200 minutes to hours by dividing by 60\n",
    "200/60"
   ]
  },
  {
   "cell_type": "markdown",
   "id": "d0f6c3b6-0355-4ba6-ad38-02068040c8c5",
   "metadata": {},
   "source": [
    "**Objectives:**\n",
    "- List popular languages for data science \n",
    "- List commonly used libraries for data science\n",
    "- Write simple arithmetic expression in python\n"
   ]
  },
  {
   "cell_type": "markdown",
   "id": "50a2089f-89f6-458a-badf-8df828ae6efd",
   "metadata": {},
   "source": [
    "## Author\n",
    "Lin Shao Lun"
   ]
  }
 ],
 "metadata": {
  "kernelspec": {
   "display_name": "Python",
   "language": "python",
   "name": "conda-env-python-py"
  },
  "language_info": {
   "codemirror_mode": {
    "name": "ipython",
    "version": 3
   },
   "file_extension": ".py",
   "mimetype": "text/x-python",
   "name": "python",
   "nbconvert_exporter": "python",
   "pygments_lexer": "ipython3",
   "version": "3.7.12"
  }
 },
 "nbformat": 4,
 "nbformat_minor": 5
}
